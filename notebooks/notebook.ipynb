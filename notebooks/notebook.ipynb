{
 "cells": [
  {
   "cell_type": "markdown",
   "id": "2706497d-92e8-4878-bc28-c226bc00555d",
   "metadata": {},
   "source": [
    "# Problema"
   ]
  },
  {
   "cell_type": "markdown",
   "id": "ba64042f-4321-4153-b431-c069c492e1d2",
   "metadata": {},
   "source": [
    "**Tipo de Declaração de Problema: Segmentação de Clientes: Agrupamento**\n",
    "\n",
    "**Descrição do Contexto do Problema:** Uma loja online sediada no Reino Unido capturou os dados de vendas de diferentes produtos ao longo de um ano (novembro de 2016 a dezembro de 2017). A organização vende presentes principalmente na plataforma online. Os clientes que fazem uma compra consomem diretamente para si mesmos. Existem pequenos negócios que compram em grande quantidade e vendem para outros clientes por meio do canal de varejo.\n",
    "\n",
    "**Objetivo do Projeto:** Encontrar clientes significativos para o negócio que fazem compras elevadas de seus produtos favoritos. A organização deseja implementar um programa de fidelidade para os clientes de alto valor após a identificação dos segmentos.\n",
    "\n",
    "**Descrição do Conjunto de Dados:** Este é um conjunto de dados transnacional que contém todas as transações ocorridas entre novembro de 2016 e dezembro de 2017 para uma loja online sediada no Reino Unido.\n",
    "\n",
    "**Descrição dos Atributos:**\n",
    "- `InvoiceNo`: Número da fatura (um número integral de 6 dígitos atribuído exclusivamente a cada transação)\n",
    "- `StockCode`: Código do produto (item)\n",
    "- `Description`: Nome do produto (item)\n",
    "- `Quantity`: As quantidades de cada produto (item) por transação\n",
    "- `InvoiceDate`: O dia em que cada transação foi gerada\n",
    "- `UnitPrice`: Preço unitário (preço do produto por unidade)\n",
    "- `CustomerID`: Número do cliente (ID único atribuído a cada cliente)\n",
    "- `Country`: Nome do país (o nome do país onde cada cliente reside)\n",
    "\n",
    "**Definição de Clientes de Alto Valor [HVC]:** [Link para a definição](https://nectarom.com/2017/02/24/high-value-customers-high-value-results/#:~:text=High%2Dvalue%20customers%20are%20those,in%20times%20of%20financial%20duress).\n",
    "\n",
    "**Com Base no Objetivo de Negócios:** Minha escolha é ir para a técnica de agrupamento Hierárquico ou EM, pois é mais robusta para este conjunto de dados. As análises abaixo são uma visão subjetiva própria; posso estar equivocado em primeiro lugar e adoraria receber feedback e aprender com você."
   ]
  },
  {
   "cell_type": "markdown",
   "id": "6924a167-eba9-4883-9e16-54e4faa18ec4",
   "metadata": {
    "heading_collapsed": true
   },
   "source": [
    "# Planejamento da Solução"
   ]
  },
  {
   "cell_type": "markdown",
   "id": "6449f48e-6226-4345-9562-e491233ef194",
   "metadata": {
    "heading_collapsed": true,
    "hidden": true
   },
   "source": [
    " **Input - Entrada**"
   ]
  },
  {
   "cell_type": "markdown",
   "id": "e0fd38dd-a1ad-44c2-b2e8-53359033b4bf",
   "metadata": {
    "hidden": true
   },
   "source": [
    "**O problema de negócio**"
   ]
  },
  {
   "cell_type": "markdown",
   "id": "69a8025e-6161-4988-87cf-dc3052417817",
   "metadata": {
    "hidden": true
   },
   "source": [
    "1. Selecionar os mais valiosos clientes para formar o programa de fidelidade **\"INSIDERS\"**\n",
    "2. Conjunto de dados com as vendas de produtos durante 2 anos ( Nov 2015 to Dec 2017 )"
   ]
  },
  {
   "cell_type": "markdown",
   "id": "a4c6febe-97c3-4c32-a4bf-9e1754867946",
   "metadata": {
    "heading_collapsed": true,
    "hidden": true
   },
   "source": [
    "**Output - Saída**"
   ]
  },
  {
   "cell_type": "markdown",
   "id": "85efeaa9-2422-46cc-b457-c3a3f18de90c",
   "metadata": {
    "hidden": true
   },
   "source": [
    "1. A indicação de pessoas para fazer parte do programa de fidelidade **\"INSIDERS\"**.\n",
    "2. Relatório com as respostas para as seguintes perguntas:\n",
    "    - Quem são as pessoas elegíveis para participar do programa de Insiders ?\n",
    "    - Quantos clientes farão parte do grupo?\n",
    "    - Quais as principais características desses clientes ?\n",
    "    - Qual a porcentagem de contribuição do faturamento, vinda do Insiders ?\n",
    "    - Qual a expectativa de faturamento desse grupo para os próximos meses ?\n",
    "    - Quais as condições para uma pessoa ser elegível ao Insiders ?\n",
    "    - Quais as condições para uma pessoa ser removida do Insiders ?\n",
    "    - Qual a garantia que o programa Insiders é melhor que o restante da base ?\n",
    "    - Quais ações o time de marketing pode realizar para aumentar o faturamento?"
   ]
  },
  {
   "cell_type": "markdown",
   "id": "7b0e5ae5-4e14-4b1b-979e-c5575631bf02",
   "metadata": {
    "heading_collapsed": true,
    "hidden": true
   },
   "source": [
    "**Tasks - Processo**"
   ]
  },
  {
   "cell_type": "markdown",
   "id": "31a20893-f4f1-4be1-bf23-3257fc69f519",
   "metadata": {
    "hidden": true
   },
   "source": [
    "1. **Quem são as pessoas elegíveis para participar do programa de Insiders ?**\n",
    "    - O que é ser elegível ? O que é um cliente \"valioso\" para a empresa ?\n",
    "        - Faturamento:\n",
    "            - Alto Ticket Médio\n",
    "            - Alto LTV\n",
    "            - Baixa Recência ou Alta Frequência ( tempo entre as compras )\n",
    "            - Alto Basket Size ( quantidade média de produtos comprados )\n",
    "            - Baixa probabilidade de Churn\n",
    "            - Previsão alta de LTV\n",
    "            - Alta propensão de compra\n",
    "\n",
    "        - Custo:\n",
    "            - Baixo número de devoluções\n",
    "\n",
    "        - Experiência:  \n",
    "            - Média alta de avaliações\n",
    "             \n",
    "             \n",
    "            \n",
    "2. **Quantos clientes farão parte do grupo?**\n",
    "    - Número de clientes\n",
    "    - % em relação ao total de clients\n",
    "    \n",
    "    \n",
    "3. **Quais as principais características desses clientes ?**\n",
    "    - Escrever os principais atributos dos clientes\n",
    "        - Idade\n",
    "        - País\n",
    "        - Salário\n",
    "        \n",
    "    - Escrever os principais comportamentos de compra dos clients ( métricas de negócio )\n",
    "        - Vide acima\n",
    "    \n",
    "    \n",
    "4. **Qual a porcentagem de contribuição do faturamento, vinda do Insiders ?**\n",
    "    - Calcular o faturamento total da empresa durante o ano.\n",
    "    - Calcular o faturamento (%) apenas do cluster Insiders.\n",
    "    \n",
    "    \n",
    "5. **Qual a expectativa de faturamento desse grupo para os próximos meses ?**\n",
    "    - Cálculo do LTV do grupo Insiders\n",
    "    - Séries Temporais ( ARMA, ARIMA, HoltWinter, etc )\n",
    "    \n",
    "\n",
    "6. **Quais as condições para uma pessoa ser elegível ao Insiders ?**\n",
    "    - Qual o período de avaliação ?\n",
    "    - O \"desempenho\" do cliente está próximo da média do cluster Insiders. \n",
    "    \n",
    "    \n",
    "7. **Quais as condições para uma pessoa ser removida do Insiders ?**\n",
    "    - O \"desempenho\" do cliente não está mais próximo da média do cluster Insiders. \n",
    "    \n",
    "    \n",
    "8. **Qual a garantia que o programa Insiders é melhor que o restante da base ?**\n",
    "    - Teste de Hipóteses\n",
    "    - Teste A/B\n",
    "    \n",
    "    \n",
    "9. **Quais ações o time de marketing pode realizar para aumentar o faturamento?**\n",
    "    - Descontos\n",
    "    - Preferências de escolha\n",
    "    - Produtos exclusivos"
   ]
  },
  {
   "cell_type": "markdown",
   "id": "61b96136-b062-42b3-927e-9cbf7c2cf900",
   "metadata": {},
   "source": [
    " # Imports "
   ]
  },
  {
   "cell_type": "code",
   "execution_count": 131,
   "id": "81f76ea7-709d-47c3-8d21-bac4b54eb82d",
   "metadata": {},
   "outputs": [],
   "source": [
    "import pandas as pd\n",
    "import numpy  as np\n",
    "\n",
    "\n",
    "import matplotlib.pyplot as plt\n",
    "import seaborn           as sns\n",
    "\n",
    "import os"
   ]
  },
  {
   "cell_type": "code",
   "execution_count": 2,
   "id": "0ca3611c-6db8-4348-a791-4d20567a9252",
   "metadata": {},
   "outputs": [],
   "source": [
    "# Changing dir to start of project directory\n",
    "os.chdir('C:\\\\Users\\\\joaov\\\\Documents\\\\ComunidadeDS\\\\project_customer_clustering\\\\')"
   ]
  },
  {
   "cell_type": "markdown",
   "id": "25cfca3a-54e5-46ff-8233-d1a83b35b943",
   "metadata": {},
   "source": [
    "# Carregando dados"
   ]
  },
  {
   "cell_type": "code",
   "execution_count": 87,
   "id": "0df3a877-d13c-4f85-bd53-73d14c02f503",
   "metadata": {},
   "outputs": [],
   "source": [
    "df0 = pd.read_csv('data/raw/Ecommerce.csv', encoding='unicode_escape', usecols=list(np.arange(0,8)))"
   ]
  },
  {
   "cell_type": "markdown",
   "id": "06d6bce7-bb58-40c7-b8ba-1c6595994f57",
   "metadata": {},
   "source": [
    "# Análise descritiva"
   ]
  },
  {
   "cell_type": "code",
   "execution_count": 4,
   "id": "7bd6fc1e-6836-418c-9cc3-988c076f23b4",
   "metadata": {},
   "outputs": [
    {
     "data": {
      "text/html": [
       "<div>\n",
       "<style scoped>\n",
       "    .dataframe tbody tr th:only-of-type {\n",
       "        vertical-align: middle;\n",
       "    }\n",
       "\n",
       "    .dataframe tbody tr th {\n",
       "        vertical-align: top;\n",
       "    }\n",
       "\n",
       "    .dataframe thead th {\n",
       "        text-align: right;\n",
       "    }\n",
       "</style>\n",
       "<table border=\"1\" class=\"dataframe\">\n",
       "  <thead>\n",
       "    <tr style=\"text-align: right;\">\n",
       "      <th></th>\n",
       "      <th>InvoiceNo</th>\n",
       "      <th>StockCode</th>\n",
       "      <th>Description</th>\n",
       "      <th>Quantity</th>\n",
       "      <th>InvoiceDate</th>\n",
       "      <th>UnitPrice</th>\n",
       "      <th>CustomerID</th>\n",
       "      <th>Country</th>\n",
       "    </tr>\n",
       "  </thead>\n",
       "  <tbody>\n",
       "    <tr>\n",
       "      <th>0</th>\n",
       "      <td>536365</td>\n",
       "      <td>85123A</td>\n",
       "      <td>WHITE HANGING HEART T-LIGHT HOLDER</td>\n",
       "      <td>6</td>\n",
       "      <td>29-Nov-16</td>\n",
       "      <td>2.55</td>\n",
       "      <td>17850.0</td>\n",
       "      <td>United Kingdom</td>\n",
       "    </tr>\n",
       "    <tr>\n",
       "      <th>1</th>\n",
       "      <td>536365</td>\n",
       "      <td>71053</td>\n",
       "      <td>WHITE METAL LANTERN</td>\n",
       "      <td>6</td>\n",
       "      <td>29-Nov-16</td>\n",
       "      <td>3.39</td>\n",
       "      <td>17850.0</td>\n",
       "      <td>United Kingdom</td>\n",
       "    </tr>\n",
       "    <tr>\n",
       "      <th>2</th>\n",
       "      <td>536365</td>\n",
       "      <td>84406B</td>\n",
       "      <td>CREAM CUPID HEARTS COAT HANGER</td>\n",
       "      <td>8</td>\n",
       "      <td>29-Nov-16</td>\n",
       "      <td>2.75</td>\n",
       "      <td>17850.0</td>\n",
       "      <td>United Kingdom</td>\n",
       "    </tr>\n",
       "    <tr>\n",
       "      <th>3</th>\n",
       "      <td>536365</td>\n",
       "      <td>84029G</td>\n",
       "      <td>KNITTED UNION FLAG HOT WATER BOTTLE</td>\n",
       "      <td>6</td>\n",
       "      <td>29-Nov-16</td>\n",
       "      <td>3.39</td>\n",
       "      <td>17850.0</td>\n",
       "      <td>United Kingdom</td>\n",
       "    </tr>\n",
       "    <tr>\n",
       "      <th>4</th>\n",
       "      <td>536365</td>\n",
       "      <td>84029E</td>\n",
       "      <td>RED WOOLLY HOTTIE WHITE HEART.</td>\n",
       "      <td>6</td>\n",
       "      <td>29-Nov-16</td>\n",
       "      <td>3.39</td>\n",
       "      <td>17850.0</td>\n",
       "      <td>United Kingdom</td>\n",
       "    </tr>\n",
       "  </tbody>\n",
       "</table>\n",
       "</div>"
      ],
      "text/plain": [
       "  InvoiceNo StockCode                          Description  Quantity  \\\n",
       "0    536365    85123A   WHITE HANGING HEART T-LIGHT HOLDER         6   \n",
       "1    536365     71053                  WHITE METAL LANTERN         6   \n",
       "2    536365    84406B       CREAM CUPID HEARTS COAT HANGER         8   \n",
       "3    536365    84029G  KNITTED UNION FLAG HOT WATER BOTTLE         6   \n",
       "4    536365    84029E       RED WOOLLY HOTTIE WHITE HEART.         6   \n",
       "\n",
       "  InvoiceDate  UnitPrice  CustomerID         Country  \n",
       "0   29-Nov-16       2.55     17850.0  United Kingdom  \n",
       "1   29-Nov-16       3.39     17850.0  United Kingdom  \n",
       "2   29-Nov-16       2.75     17850.0  United Kingdom  \n",
       "3   29-Nov-16       3.39     17850.0  United Kingdom  \n",
       "4   29-Nov-16       3.39     17850.0  United Kingdom  "
      ]
     },
     "execution_count": 4,
     "metadata": {},
     "output_type": "execute_result"
    }
   ],
   "source": [
    "df0.head()"
   ]
  },
  {
   "cell_type": "code",
   "execution_count": 5,
   "id": "d5e2b3f2-86d5-47d0-8f0e-ce2427d68fd2",
   "metadata": {},
   "outputs": [
    {
     "data": {
      "text/plain": [
       "InvoiceNo       object\n",
       "StockCode       object\n",
       "Description     object\n",
       "Quantity         int64\n",
       "InvoiceDate     object\n",
       "UnitPrice      float64\n",
       "CustomerID     float64\n",
       "Country         object\n",
       "dtype: object"
      ]
     },
     "execution_count": 5,
     "metadata": {},
     "output_type": "execute_result"
    }
   ],
   "source": [
    "df0.dtypes    "
   ]
  },
  {
   "cell_type": "markdown",
   "id": "f899dfae-c365-437f-9fe8-a2d5f18b6068",
   "metadata": {},
   "source": [
    "**Quão grande é o Dataset? ?**"
   ]
  },
  {
   "cell_type": "code",
   "execution_count": 6,
   "id": "755f9bbb-ef37-494b-8fcb-39b4423501a5",
   "metadata": {},
   "outputs": [
    {
     "name": "stdout",
     "output_type": "stream",
     "text": [
      " The dataset has 541909 rows and 8 columns.\n"
     ]
    }
   ],
   "source": [
    "print(' The dataset has {} rows'\n",
    "      ' and {} columns.'\n",
    "      .format(df0.shape[0],df0.shape[1]))"
   ]
  },
  {
   "cell_type": "markdown",
   "id": "5807b53e-f47e-42a1-94d8-9e9770493b6c",
   "metadata": {},
   "source": [
    "**Qual a porcentagem de dados nulos por coluna?**"
   ]
  },
  {
   "cell_type": "code",
   "execution_count": 7,
   "id": "78a7a495-b455-4310-952c-a65d56451539",
   "metadata": {},
   "outputs": [
    {
     "data": {
      "text/plain": [
       "InvoiceNo       0.00\n",
       "StockCode       0.00\n",
       "Description     0.27\n",
       "Quantity        0.00\n",
       "InvoiceDate     0.00\n",
       "UnitPrice       0.00\n",
       "CustomerID     24.93\n",
       "Country         0.00\n",
       "dtype: float64"
      ]
     },
     "execution_count": 7,
     "metadata": {},
     "output_type": "execute_result"
    }
   ],
   "source": [
    "round( ( df0.isna().sum() / df0.shape[0] ) * 100\n",
    "      ,2)"
   ]
  },
  {
   "cell_type": "markdown",
   "id": "d2243938-1630-4ca7-aab7-56fd0851f5b7",
   "metadata": {},
   "source": [
    "**Informações gerais por coluna**"
   ]
  },
  {
   "cell_type": "code",
   "execution_count": 12,
   "id": "163bbb02-d626-48d5-944b-69666153c315",
   "metadata": {},
   "outputs": [
    {
     "data": {
      "text/html": [
       "<div>\n",
       "<style scoped>\n",
       "    .dataframe tbody tr th:only-of-type {\n",
       "        vertical-align: middle;\n",
       "    }\n",
       "\n",
       "    .dataframe tbody tr th {\n",
       "        vertical-align: top;\n",
       "    }\n",
       "\n",
       "    .dataframe thead th {\n",
       "        text-align: right;\n",
       "    }\n",
       "</style>\n",
       "<table border=\"1\" class=\"dataframe\">\n",
       "  <thead>\n",
       "    <tr style=\"text-align: right;\">\n",
       "      <th></th>\n",
       "      <th>InvoiceNo</th>\n",
       "      <th>StockCode</th>\n",
       "      <th>Description</th>\n",
       "      <th>Quantity</th>\n",
       "      <th>InvoiceDate</th>\n",
       "      <th>UnitPrice</th>\n",
       "      <th>CustomerID</th>\n",
       "      <th>Country</th>\n",
       "    </tr>\n",
       "  </thead>\n",
       "  <tbody>\n",
       "    <tr>\n",
       "      <th>count</th>\n",
       "      <td>541909</td>\n",
       "      <td>541909</td>\n",
       "      <td>540455</td>\n",
       "      <td>541909.000000</td>\n",
       "      <td>541909</td>\n",
       "      <td>541909.000000</td>\n",
       "      <td>406829.000000</td>\n",
       "      <td>541909</td>\n",
       "    </tr>\n",
       "    <tr>\n",
       "      <th>unique</th>\n",
       "      <td>25900</td>\n",
       "      <td>4070</td>\n",
       "      <td>4223</td>\n",
       "      <td>NaN</td>\n",
       "      <td>305</td>\n",
       "      <td>NaN</td>\n",
       "      <td>NaN</td>\n",
       "      <td>38</td>\n",
       "    </tr>\n",
       "    <tr>\n",
       "      <th>top</th>\n",
       "      <td>573585</td>\n",
       "      <td>85123A</td>\n",
       "      <td>WHITE HANGING HEART T-LIGHT HOLDER</td>\n",
       "      <td>NaN</td>\n",
       "      <td>3-Dec-17</td>\n",
       "      <td>NaN</td>\n",
       "      <td>NaN</td>\n",
       "      <td>United Kingdom</td>\n",
       "    </tr>\n",
       "    <tr>\n",
       "      <th>freq</th>\n",
       "      <td>1114</td>\n",
       "      <td>2313</td>\n",
       "      <td>2369</td>\n",
       "      <td>NaN</td>\n",
       "      <td>5331</td>\n",
       "      <td>NaN</td>\n",
       "      <td>NaN</td>\n",
       "      <td>495478</td>\n",
       "    </tr>\n",
       "    <tr>\n",
       "      <th>mean</th>\n",
       "      <td>NaN</td>\n",
       "      <td>NaN</td>\n",
       "      <td>NaN</td>\n",
       "      <td>9.552250</td>\n",
       "      <td>NaN</td>\n",
       "      <td>4.611114</td>\n",
       "      <td>15287.690570</td>\n",
       "      <td>NaN</td>\n",
       "    </tr>\n",
       "    <tr>\n",
       "      <th>std</th>\n",
       "      <td>NaN</td>\n",
       "      <td>NaN</td>\n",
       "      <td>NaN</td>\n",
       "      <td>218.081158</td>\n",
       "      <td>NaN</td>\n",
       "      <td>96.759853</td>\n",
       "      <td>1713.600303</td>\n",
       "      <td>NaN</td>\n",
       "    </tr>\n",
       "    <tr>\n",
       "      <th>min</th>\n",
       "      <td>NaN</td>\n",
       "      <td>NaN</td>\n",
       "      <td>NaN</td>\n",
       "      <td>-80995.000000</td>\n",
       "      <td>NaN</td>\n",
       "      <td>-11062.060000</td>\n",
       "      <td>12346.000000</td>\n",
       "      <td>NaN</td>\n",
       "    </tr>\n",
       "    <tr>\n",
       "      <th>25%</th>\n",
       "      <td>NaN</td>\n",
       "      <td>NaN</td>\n",
       "      <td>NaN</td>\n",
       "      <td>1.000000</td>\n",
       "      <td>NaN</td>\n",
       "      <td>1.250000</td>\n",
       "      <td>13953.000000</td>\n",
       "      <td>NaN</td>\n",
       "    </tr>\n",
       "    <tr>\n",
       "      <th>50%</th>\n",
       "      <td>NaN</td>\n",
       "      <td>NaN</td>\n",
       "      <td>NaN</td>\n",
       "      <td>3.000000</td>\n",
       "      <td>NaN</td>\n",
       "      <td>2.080000</td>\n",
       "      <td>15152.000000</td>\n",
       "      <td>NaN</td>\n",
       "    </tr>\n",
       "    <tr>\n",
       "      <th>75%</th>\n",
       "      <td>NaN</td>\n",
       "      <td>NaN</td>\n",
       "      <td>NaN</td>\n",
       "      <td>10.000000</td>\n",
       "      <td>NaN</td>\n",
       "      <td>4.130000</td>\n",
       "      <td>16791.000000</td>\n",
       "      <td>NaN</td>\n",
       "    </tr>\n",
       "    <tr>\n",
       "      <th>max</th>\n",
       "      <td>NaN</td>\n",
       "      <td>NaN</td>\n",
       "      <td>NaN</td>\n",
       "      <td>80995.000000</td>\n",
       "      <td>NaN</td>\n",
       "      <td>38970.000000</td>\n",
       "      <td>18287.000000</td>\n",
       "      <td>NaN</td>\n",
       "    </tr>\n",
       "  </tbody>\n",
       "</table>\n",
       "</div>"
      ],
      "text/plain": [
       "       InvoiceNo StockCode                         Description       Quantity  \\\n",
       "count     541909    541909                              540455  541909.000000   \n",
       "unique     25900      4070                                4223            NaN   \n",
       "top       573585    85123A  WHITE HANGING HEART T-LIGHT HOLDER            NaN   \n",
       "freq        1114      2313                                2369            NaN   \n",
       "mean         NaN       NaN                                 NaN       9.552250   \n",
       "std          NaN       NaN                                 NaN     218.081158   \n",
       "min          NaN       NaN                                 NaN  -80995.000000   \n",
       "25%          NaN       NaN                                 NaN       1.000000   \n",
       "50%          NaN       NaN                                 NaN       3.000000   \n",
       "75%          NaN       NaN                                 NaN      10.000000   \n",
       "max          NaN       NaN                                 NaN   80995.000000   \n",
       "\n",
       "       InvoiceDate      UnitPrice     CustomerID         Country  \n",
       "count       541909  541909.000000  406829.000000          541909  \n",
       "unique         305            NaN            NaN              38  \n",
       "top       3-Dec-17            NaN            NaN  United Kingdom  \n",
       "freq          5331            NaN            NaN          495478  \n",
       "mean           NaN       4.611114   15287.690570             NaN  \n",
       "std            NaN      96.759853    1713.600303             NaN  \n",
       "min            NaN  -11062.060000   12346.000000             NaN  \n",
       "25%            NaN       1.250000   13953.000000             NaN  \n",
       "50%            NaN       2.080000   15152.000000             NaN  \n",
       "75%            NaN       4.130000   16791.000000             NaN  \n",
       "max            NaN   38970.000000   18287.000000             NaN  "
      ]
     },
     "execution_count": 12,
     "metadata": {},
     "output_type": "execute_result"
    }
   ],
   "source": [
    "df0.describe(include='all')"
   ]
  },
  {
   "cell_type": "markdown",
   "id": "c14ca2cf-8fbe-48bd-951d-0a998d7e29cc",
   "metadata": {
    "hidden": true
   },
   "source": [
    "1. **InvoiceNo**\n",
    "    - Contém valores numéricos e poucas ocorrencias de Strings ( < 2% ) como por ex. 'C536379'.\n",
    "    - Mais que 75% das linhas com InvoiceNo não numéricos contém quantidades negativas\n",
    "     \n",
    "    \n",
    "    \n",
    "2. **InvoiceDate**\n",
    "    - Data armazenada em formato de String, necessário conversão para DateTime\n",
    "    \n",
    "            \n",
    "2. **CustomerID**\n",
    "    - 25% dos valores vazios, porém como cada InvoiceNo só pode ter um cliente, assumiremos o CustomerID a partir das Invoices No\n"
   ]
  },
  {
   "cell_type": "markdown",
   "id": "e0ccd2e9-d045-4efb-a4ee-15d3f9e56644",
   "metadata": {},
   "source": [
    "# Treating data"
   ]
  },
  {
   "cell_type": "code",
   "execution_count": 101,
   "id": "a5acdc7f-b879-4bf5-a659-f1cfffd0c60a",
   "metadata": {},
   "outputs": [],
   "source": [
    "df1 = df0.assign(\n",
    "            #InvoiceNo = pd.to_numeric(df1['InvoiceNo'], errors='coerce'),\n",
    "            InvoiceDate = pd.to_datetime(df1['InvoiceDate'], format='%d-%b-%y'),\n",
    "            TotalValue  = lambda x: x['Quantity'] * x['UnitPrice']\n",
    "                )"
   ]
  },
  {
   "cell_type": "code",
   "execution_count": 103,
   "id": "c069790d-e662-4447-bc50-e8b28e617be5",
   "metadata": {},
   "outputs": [
    {
     "data": {
      "text/html": [
       "<div>\n",
       "<style scoped>\n",
       "    .dataframe tbody tr th:only-of-type {\n",
       "        vertical-align: middle;\n",
       "    }\n",
       "\n",
       "    .dataframe tbody tr th {\n",
       "        vertical-align: top;\n",
       "    }\n",
       "\n",
       "    .dataframe thead th {\n",
       "        text-align: right;\n",
       "    }\n",
       "</style>\n",
       "<table border=\"1\" class=\"dataframe\">\n",
       "  <thead>\n",
       "    <tr style=\"text-align: right;\">\n",
       "      <th></th>\n",
       "      <th>InvoiceNo</th>\n",
       "      <th>StockCode</th>\n",
       "      <th>Description</th>\n",
       "      <th>Quantity</th>\n",
       "      <th>InvoiceDate</th>\n",
       "      <th>UnitPrice</th>\n",
       "      <th>CustomerID</th>\n",
       "      <th>Country</th>\n",
       "      <th>TotalValue</th>\n",
       "    </tr>\n",
       "  </thead>\n",
       "  <tbody>\n",
       "    <tr>\n",
       "      <th>0</th>\n",
       "      <td>536365</td>\n",
       "      <td>85123A</td>\n",
       "      <td>WHITE HANGING HEART T-LIGHT HOLDER</td>\n",
       "      <td>6</td>\n",
       "      <td>2016-11-29</td>\n",
       "      <td>2.55</td>\n",
       "      <td>17850.0</td>\n",
       "      <td>United Kingdom</td>\n",
       "      <td>15.30</td>\n",
       "    </tr>\n",
       "    <tr>\n",
       "      <th>1</th>\n",
       "      <td>536365</td>\n",
       "      <td>71053</td>\n",
       "      <td>WHITE METAL LANTERN</td>\n",
       "      <td>6</td>\n",
       "      <td>2016-11-29</td>\n",
       "      <td>3.39</td>\n",
       "      <td>17850.0</td>\n",
       "      <td>United Kingdom</td>\n",
       "      <td>20.34</td>\n",
       "    </tr>\n",
       "    <tr>\n",
       "      <th>2</th>\n",
       "      <td>536365</td>\n",
       "      <td>84406B</td>\n",
       "      <td>CREAM CUPID HEARTS COAT HANGER</td>\n",
       "      <td>8</td>\n",
       "      <td>2016-11-29</td>\n",
       "      <td>2.75</td>\n",
       "      <td>17850.0</td>\n",
       "      <td>United Kingdom</td>\n",
       "      <td>22.00</td>\n",
       "    </tr>\n",
       "    <tr>\n",
       "      <th>3</th>\n",
       "      <td>536365</td>\n",
       "      <td>84029G</td>\n",
       "      <td>KNITTED UNION FLAG HOT WATER BOTTLE</td>\n",
       "      <td>6</td>\n",
       "      <td>2016-11-29</td>\n",
       "      <td>3.39</td>\n",
       "      <td>17850.0</td>\n",
       "      <td>United Kingdom</td>\n",
       "      <td>20.34</td>\n",
       "    </tr>\n",
       "    <tr>\n",
       "      <th>4</th>\n",
       "      <td>536365</td>\n",
       "      <td>84029E</td>\n",
       "      <td>RED WOOLLY HOTTIE WHITE HEART.</td>\n",
       "      <td>6</td>\n",
       "      <td>2016-11-29</td>\n",
       "      <td>3.39</td>\n",
       "      <td>17850.0</td>\n",
       "      <td>United Kingdom</td>\n",
       "      <td>20.34</td>\n",
       "    </tr>\n",
       "  </tbody>\n",
       "</table>\n",
       "</div>"
      ],
      "text/plain": [
       "  InvoiceNo StockCode                          Description  Quantity  \\\n",
       "0    536365    85123A   WHITE HANGING HEART T-LIGHT HOLDER         6   \n",
       "1    536365     71053                  WHITE METAL LANTERN         6   \n",
       "2    536365    84406B       CREAM CUPID HEARTS COAT HANGER         8   \n",
       "3    536365    84029G  KNITTED UNION FLAG HOT WATER BOTTLE         6   \n",
       "4    536365    84029E       RED WOOLLY HOTTIE WHITE HEART.         6   \n",
       "\n",
       "  InvoiceDate  UnitPrice  CustomerID         Country  TotalValue  \n",
       "0  2016-11-29       2.55     17850.0  United Kingdom       15.30  \n",
       "1  2016-11-29       3.39     17850.0  United Kingdom       20.34  \n",
       "2  2016-11-29       2.75     17850.0  United Kingdom       22.00  \n",
       "3  2016-11-29       3.39     17850.0  United Kingdom       20.34  \n",
       "4  2016-11-29       3.39     17850.0  United Kingdom       20.34  "
      ]
     },
     "execution_count": 103,
     "metadata": {},
     "output_type": "execute_result"
    }
   ],
   "source": [
    "df1.head()"
   ]
  },
  {
   "cell_type": "code",
   "execution_count": 89,
   "id": "d53b8b0b-9650-4e21-8c06-4237bb816df1",
   "metadata": {},
   "outputs": [],
   "source": [
    "df1['CustomerID'] = df1['InvoiceNo'].map( \n",
    "                                        (df1[['InvoiceNo','CustomerID']]\n",
    "                                        .drop_duplicates()\n",
    "                                        .set_index('InvoiceNo')\n",
    "                                        ['CustomerID']\n",
    "                                        .to_dict()))"
   ]
  },
  {
   "cell_type": "code",
   "execution_count": null,
   "id": "1f4d9bbf-c274-4dbd-a4cd-a0d2c0786128",
   "metadata": {},
   "outputs": [],
   "source": []
  },
  {
   "cell_type": "markdown",
   "id": "a365b7d1-0ba2-422f-a0be-6f4fb4e47436",
   "metadata": {},
   "source": [
    "# Analyze"
   ]
  },
  {
   "cell_type": "markdown",
   "id": "36c4abd1-1786-45e4-b374-59e450b9380f",
   "metadata": {},
   "source": [
    "## Os clientes NAs representam quantos % do faturamento?"
   ]
  },
  {
   "cell_type": "code",
   "execution_count": 141,
   "id": "ad743cec-9921-41b2-bdc7-eb00569ef6ec",
   "metadata": {},
   "outputs": [
    {
     "data": {
      "text/html": [
       "<div>\n",
       "<style scoped>\n",
       "    .dataframe tbody tr th:only-of-type {\n",
       "        vertical-align: middle;\n",
       "    }\n",
       "\n",
       "    .dataframe tbody tr th {\n",
       "        vertical-align: top;\n",
       "    }\n",
       "\n",
       "    .dataframe thead th {\n",
       "        text-align: right;\n",
       "    }\n",
       "</style>\n",
       "<table border=\"1\" class=\"dataframe\">\n",
       "  <thead>\n",
       "    <tr style=\"text-align: right;\">\n",
       "      <th></th>\n",
       "      <th>index</th>\n",
       "      <th>CustomerID</th>\n",
       "      <th>TotalValue</th>\n",
       "      <th>TotalValuePerc</th>\n",
       "    </tr>\n",
       "  </thead>\n",
       "  <tbody>\n",
       "    <tr>\n",
       "      <th>0</th>\n",
       "      <td>4372</td>\n",
       "      <td>NaN</td>\n",
       "      <td>1447682.12</td>\n",
       "      <td>0.148515</td>\n",
       "    </tr>\n",
       "    <tr>\n",
       "      <th>1</th>\n",
       "      <td>1703</td>\n",
       "      <td>14646.0</td>\n",
       "      <td>279489.02</td>\n",
       "      <td>0.028672</td>\n",
       "    </tr>\n",
       "    <tr>\n",
       "      <th>2</th>\n",
       "      <td>4233</td>\n",
       "      <td>18102.0</td>\n",
       "      <td>256438.49</td>\n",
       "      <td>0.026307</td>\n",
       "    </tr>\n",
       "    <tr>\n",
       "      <th>3</th>\n",
       "      <td>3758</td>\n",
       "      <td>17450.0</td>\n",
       "      <td>187482.17</td>\n",
       "      <td>0.019233</td>\n",
       "    </tr>\n",
       "    <tr>\n",
       "      <th>4</th>\n",
       "      <td>1895</td>\n",
       "      <td>14911.0</td>\n",
       "      <td>132572.62</td>\n",
       "      <td>0.013600</td>\n",
       "    </tr>\n",
       "    <tr>\n",
       "      <th>...</th>\n",
       "      <td>...</td>\n",
       "      <td>...</td>\n",
       "      <td>...</td>\n",
       "      <td>...</td>\n",
       "    </tr>\n",
       "    <tr>\n",
       "      <th>4368</th>\n",
       "      <td>125</td>\n",
       "      <td>12503.0</td>\n",
       "      <td>-1126.00</td>\n",
       "      <td>-0.000116</td>\n",
       "    </tr>\n",
       "    <tr>\n",
       "      <th>4369</th>\n",
       "      <td>3870</td>\n",
       "      <td>17603.0</td>\n",
       "      <td>-1165.30</td>\n",
       "      <td>-0.000120</td>\n",
       "    </tr>\n",
       "    <tr>\n",
       "      <th>4370</th>\n",
       "      <td>1384</td>\n",
       "      <td>14213.0</td>\n",
       "      <td>-1192.20</td>\n",
       "      <td>-0.000122</td>\n",
       "    </tr>\n",
       "    <tr>\n",
       "      <th>4371</th>\n",
       "      <td>2236</td>\n",
       "      <td>15369.0</td>\n",
       "      <td>-1592.49</td>\n",
       "      <td>-0.000163</td>\n",
       "    </tr>\n",
       "    <tr>\n",
       "      <th>4372</th>\n",
       "      <td>3756</td>\n",
       "      <td>17448.0</td>\n",
       "      <td>-4287.63</td>\n",
       "      <td>-0.000440</td>\n",
       "    </tr>\n",
       "  </tbody>\n",
       "</table>\n",
       "<p>4373 rows × 4 columns</p>\n",
       "</div>"
      ],
      "text/plain": [
       "      index  CustomerID  TotalValue  TotalValuePerc\n",
       "0      4372         NaN  1447682.12        0.148515\n",
       "1      1703     14646.0   279489.02        0.028672\n",
       "2      4233     18102.0   256438.49        0.026307\n",
       "3      3758     17450.0   187482.17        0.019233\n",
       "4      1895     14911.0   132572.62        0.013600\n",
       "...     ...         ...         ...             ...\n",
       "4368    125     12503.0    -1126.00       -0.000116\n",
       "4369   3870     17603.0    -1165.30       -0.000120\n",
       "4370   1384     14213.0    -1192.20       -0.000122\n",
       "4371   2236     15369.0    -1592.49       -0.000163\n",
       "4372   3756     17448.0    -4287.63       -0.000440\n",
       "\n",
       "[4373 rows x 4 columns]"
      ]
     },
     "execution_count": 141,
     "metadata": {},
     "output_type": "execute_result"
    }
   ],
   "source": [
    "(df1.groupby('CustomerID', as_index=False, dropna=False)\n",
    "     ['TotalValue']\n",
    "     .sum()\n",
    "     .assign(TotalValuePerc = lambda x: x['TotalValue'] / x['TotalValue'].sum())\n",
    "     .sort_values(by='TotalValue', ascending=False)\n",
    "     .reset_index(drop=False))"
   ]
  },
  {
   "cell_type": "code",
   "execution_count": null,
   "id": "dcfc5d4c-c2fe-4f07-bf7e-9a08375bd3c6",
   "metadata": {},
   "outputs": [],
   "source": []
  }
 ],
 "metadata": {
  "kernelspec": {
   "display_name": "Python 3 (ipykernel)",
   "language": "python",
   "name": "python3"
  },
  "language_info": {
   "codemirror_mode": {
    "name": "ipython",
    "version": 3
   },
   "file_extension": ".py",
   "mimetype": "text/x-python",
   "name": "python",
   "nbconvert_exporter": "python",
   "pygments_lexer": "ipython3",
   "version": "3.9.18"
  },
  "toc-autonumbering": true
 },
 "nbformat": 4,
 "nbformat_minor": 5
}
